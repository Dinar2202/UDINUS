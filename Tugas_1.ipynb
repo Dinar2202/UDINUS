{
  "cells": [
    {
      "cell_type": "markdown",
      "metadata": {
        "id": "view-in-github",
        "colab_type": "text"
      },
      "source": [
        "<a href=\"https://colab.research.google.com/github/Dinar2202/UDINUS/blob/main/Tugas_1.ipynb\" target=\"_parent\"><img src=\"https://colab.research.google.com/assets/colab-badge.svg\" alt=\"Open In Colab\"/></a>"
      ]
    },
    {
      "cell_type": "markdown",
      "source": [
        "1. Pengumpulan Data\n",
        "\n",
        "Dataset yang digunakan adalah dataset yang bersumber dari link berikut : https://archive.ics.uci.edu/dataset/45/heart+disease\n",
        "Dataset yang dipakai adalah dataset dengan nama file \"Hungarian.data"
      ],
      "metadata": {
        "id": "FIZenEFCNoMw"
      }
    },
    {
      "cell_type": "markdown",
      "source": [
        " 2. Menelaah Data\n",
        "Mengimpor modul-modul yang diperlukan, seperti pandas, numpy, re, dan itertools. Modul-modul ini digunakan untuk melakukan operasi data,\n",
        "manipulasi string, dan iterasi."
      ],
      "metadata": {
        "id": "Lb4Z-2DXNxlF"
      }
    },
    {
      "cell_type": "code",
      "execution_count": 1,
      "metadata": {
        "id": "dlqcUwDHHo4n"
      },
      "outputs": [],
      "source": [
        "import pandas as pd\n",
        "import re\n",
        "import numpy as np\n",
        "import itertools"
      ]
    },
    {
      "cell_type": "markdown",
      "source": [
        "Load Data\n",
        "\n",
        "masukkan dataset yang dibutuhkan dengan alamat penyimpanan yang tepat dan simpan kedalam sebuah variabel\n",
        "#dir adalah variabel yang digunakan untuk menyimpan data\n"
      ],
      "metadata": {
        "id": "C4ZCfcX7N9vS"
      }
    },
    {
      "cell_type": "code",
      "execution_count": 2,
      "metadata": {
        "id": "swT3KMVxHyVn"
      },
      "outputs": [],
      "source": [
        "dir = 'hungarian.data'"
      ]
    },
    {
      "cell_type": "markdown",
      "source": [
        " iterasi untuk membaca dataset\n"
      ],
      "metadata": {
        "id": "i8nVQSBhOy8I"
      }
    },
    {
      "cell_type": "code",
      "execution_count": 20,
      "metadata": {
        "colab": {
          "base_uri": "https://localhost:8080/",
          "height": 141
        },
        "id": "yXX6_RPkJtVE",
        "outputId": "41b2087b-31eb-4467-e787-4030b887c7f8"
      },
      "outputs": [
        {
          "output_type": "error",
          "ename": "IndentationError",
          "evalue": "ignored",
          "traceback": [
            "\u001b[0;36m  File \u001b[0;32m\"<tokenize>\"\u001b[0;36m, line \u001b[0;32m3\u001b[0m\n\u001b[0;31m    lines[0:10]\u001b[0m\n\u001b[0m    ^\u001b[0m\n\u001b[0;31mIndentationError\u001b[0m\u001b[0;31m:\u001b[0m unindent does not match any outer indentation level\n"
          ]
        }
      ],
      "source": [
        "with open(dir, encoding='Latin1') as file:\n",
        "  lines = [line.strip() for line in file]\n",
        "lines[0:10]"
      ]
    },
    {
      "cell_type": "markdown",
      "source": [
        "setelah membaca file dataset lakukan iterasi sesuai jumlah kolom dan baris yang ada pada dataset.\n"
      ],
      "metadata": {
        "id": "tlatA7HUO9xb"
      }
    },
    {
      "cell_type": "code",
      "execution_count": null,
      "metadata": {
        "id": "84vRJrTGKNON"
      },
      "outputs": [],
      "source": [
        "data = itertools.takewhile( lambda x: len(x) == 76,\n",
        "(' '.join(lines[i:(i + 10)]).split() for i in range(0, len(lines), 10))\n",
        ")\n",
        "\n",
        "df = pd.DataFrame.from_records(data)\n",
        "df.head()"
      ]
    },
    {
      "cell_type": "markdown",
      "source": [
        "menampilan informasi dari file dataset yang sudah dimasukkan kedalam dataframe\n"
      ],
      "metadata": {
        "id": "Ywyz_zslQACN"
      }
    },
    {
      "cell_type": "code",
      "execution_count": null,
      "metadata": {
        "id": "cbbthwnqKfy4"
      },
      "outputs": [],
      "source": [
        "df = df.iloc[:,:-1]\n",
        "df = df.drop(df.columns[0], axis=1)\n",
        "df = df.astype(float)\n",
        "df.info()"
      ]
    },
    {
      "cell_type": "markdown",
      "source": [
        "Pada kondisi dataset yang kita miliki terdapat kondisi khusus yang dimana sebelum memasuki tahap validasi data untuk tipe data object atau string perlu dilakukan penghapusan fitur dikarenakan pada dataset ini nilai null disimbolkan dengan angka -9.0\n",
        "\n",
        "mengubah tipe data file dataset menjadi tipe data float sesuai dengan nilai null yaitu -9.0\n",
        "\n"
      ],
      "metadata": {
        "id": "PEzj_REgQwn9"
      }
    },
    {
      "cell_type": "markdown",
      "source": [
        "3. Validasi Data\n",
        "\n",
        "Pada tahap ini bertujuan untuk mengetahui dan memahami isi dari dataset agar dapat dilakukan penanganan sesuai dengan kondisinya.\n",
        "\n",
        "#df.replace(-9.0, np.nan, inplace=True)\n",
        "mengubah nilai -9.0 menjadi nilai null value sesuai dengan deskripsi dataset\n",
        "\n",
        "#df.isnull().sum()\n",
        "menghitung jumlah nilai null value"
      ],
      "metadata": {
        "id": "ft-rbGauR84J"
      }
    },
    {
      "cell_type": "code",
      "execution_count": null,
      "metadata": {
        "id": "ZaXBpfP5K-t9"
      },
      "outputs": [],
      "source": [
        "df.replace(-9.0, np.nan, inplace=True)\n",
        "df.isnull().sum()\n",
        "df.head()"
      ]
    },
    {
      "cell_type": "markdown",
      "source": [
        "4. Menentukan Object Data\n",
        "\n",
        "Memilih 14 fitur yang akan digunakan sesuai dengan deskripsi dataset\n"
      ],
      "metadata": {
        "id": "q4qsdnA-T3gA"
      }
    },
    {
      "cell_type": "code",
      "execution_count": null,
      "metadata": {
        "id": "-ta-lPKtLPT5"
      },
      "outputs": [],
      "source": [
        "df_selected = df.iloc[:, [1, 2, 7,8,10,14,17,30,36,38,39,42,49,56]]\n",
        "\n",
        "\n",
        "df_selected.head()\n"
      ]
    },
    {
      "cell_type": "code",
      "execution_count": null,
      "metadata": {
        "id": "MKxEVKejLYWD"
      },
      "outputs": [],
      "source": [
        "df_selected.info()"
      ]
    },
    {
      "cell_type": "markdown",
      "source": [
        "mengganti nama kolom sesuai dengan 14 nama kolom yang ada pada deskripsi dataset\n"
      ],
      "metadata": {
        "id": "obp-4URGS7yB"
      }
    },
    {
      "cell_type": "code",
      "source": [
        "column_mapping = { 2: 'age',\n",
        "3: 'sex',\n",
        "8: 'cp',\n",
        "9: 'trestbps',\n",
        "11: 'chol',\n",
        "15: 'fbs',\n",
        "18: 'restecg',\n",
        "31: 'thalach',\n",
        "37: 'exang',\n",
        "39: 'oldpeak',\n",
        "40: 'slope',\n",
        "43: 'ca',\n",
        "50: 'thal',\n",
        "57: 'target'\n",
        "}\n",
        "\n",
        "df_selected.rename(columns=column_mapping, inplace=True)"
      ],
      "metadata": {
        "id": "ibrzbsr3NKCf"
      },
      "execution_count": null,
      "outputs": []
    },
    {
      "cell_type": "code",
      "source": [
        "df_selected.info()"
      ],
      "metadata": {
        "id": "nc_O-m-zNUQg"
      },
      "execution_count": null,
      "outputs": []
    },
    {
      "cell_type": "markdown",
      "source": [
        "menghitung jumlah fitur pada dataset\n"
      ],
      "metadata": {
        "id": "r3EuLK09Tsqb"
      }
    },
    {
      "cell_type": "code",
      "source": [
        "df_selected.value_counts()"
      ],
      "metadata": {
        "id": "BwMtwaMrNdIl"
      },
      "execution_count": null,
      "outputs": []
    },
    {
      "cell_type": "markdown",
      "source": [
        " 5. Membersihkan Data\n",
        "\n",
        "Sebelum melakukan pemodelan dilakukan pembersihan data agar model yang dihasilkan lebih akurat menghitung jumlah null values yang ada diddalam dataset\n"
      ],
      "metadata": {
        "id": "wmdZn69cURKV"
      }
    },
    {
      "cell_type": "code",
      "source": [
        "df_selected.isnull().sum()"
      ],
      "metadata": {
        "id": "GkpIyeaROC_A"
      },
      "execution_count": null,
      "outputs": []
    },
    {
      "cell_type": "markdown",
      "source": [
        "Berdasarkan output kode program diatas ada beberapa fitur yang hampir 90% datanya memiliki nilai null sehingga perlu dilakukan penghapusan fitur menggunakan fungsi drop\n"
      ],
      "metadata": {
        "id": "3P3prU6kUYeX"
      }
    },
    {
      "cell_type": "code",
      "source": [
        "columns_to_drop = ['ca', 'slope','thal']\n",
        "df_selected = df_selected.drop(columns_to_drop, axis=1)\n",
        "df_selected.isnull().sum() age"
      ],
      "metadata": {
        "id": "Z_VdPsr1OPgM"
      },
      "execution_count": null,
      "outputs": []
    },
    {
      "cell_type": "markdown",
      "source": [
        "Dikarenakan masih ada nilai null dibeberapa kolom fitur maka akan dilakukan pengisian nilai null menggunakan nilai mean di setiap kolomnya\n"
      ],
      "metadata": {
        "id": "oMUDey8PX4h4"
      }
    },
    {
      "cell_type": "code",
      "source": [
        "meanTBPS = df_selected['trestbps'].dropna() meanChol = df_selected['chol'].dropna()\n",
        "meanfbs = df_selected['fbs'].dropna()\n",
        "meanRestCG = df_selected['restecg'].dropna() meanthalach = df_selected['thalach'].dropna() meanexang = df_selected['exang'].dropna()\n",
        "\n",
        "meanTBPS = meanTBPS.astype(float) meanChol = meanChol.astype(float) meanfbs = meanfbs.astype(float)\n",
        "meanthalach = meanthalach.astype(float) meanexang = meanexang.astype(float)\n",
        "meanRestCG = meanRestCG.astype(float)\n",
        "\n",
        "meanTBPS = round(meanTBPS.mean()) meanChol = round(meanChol.mean()) meanfbs = round(meanfbs.mean())\n",
        "meanthalach = round(meanthalach.mean()) meanexang = round(meanexang.mean())\n",
        "meanRestCG = round(meanRestCG.mean())"
      ],
      "metadata": {
        "id": "3JDJFqJmYBsg"
      },
      "execution_count": null,
      "outputs": []
    },
    {
      "cell_type": "markdown",
      "source": [
        "mengubah nilai null menjadi nilai mean yang sudah ditentukan sebelumnya\n"
      ],
      "metadata": {
        "id": "CHl-jOxNYHzI"
      }
    },
    {
      "cell_type": "code",
      "source": [
        "fill_values = {'trestbps': meanTBPS, 'chol': meanChol, 'fbs': meanfbs,\n",
        "'thalach':meanthalach,'exang':meanexang,'restecg':meanRestCG}  dfClean = df_selected.fillna(value=fill_values)\n",
        "\n",
        "dfClean.info()"
      ],
      "metadata": {
        "id": "AZzMmGiWYLJ8"
      },
      "execution_count": null,
      "outputs": []
    }
  ],
  "metadata": {
    "colab": {
      "provenance": [],
      "authorship_tag": "ABX9TyO2b2AVXsaTjv88M70bvo5r",
      "include_colab_link": true
    },
    "kernelspec": {
      "display_name": "Python 3",
      "name": "python3"
    },
    "language_info": {
      "name": "python"
    }
  },
  "nbformat": 4,
  "nbformat_minor": 0
}